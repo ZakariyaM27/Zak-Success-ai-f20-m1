{
 "cells": [
  {
   "cell_type": "markdown",
   "metadata": {},
   "source": [
    "Exercise 5.1: Create a countdown function that starts at a certain count, and counts down to zero. Instead of zero, print \"Blast off!\". Use a for loop."
   ]
  },
  {
   "cell_type": "code",
   "execution_count": null,
   "metadata": {},
   "outputs": [],
   "source": [
    "\n",
    "# Countdown\n",
    "def countdown(number):\n",
    "    print(number)\n",
    "    for n in range (0,number):\n",
    "        number -= 1\n",
    "        if number != 0:\n",
    "            print(number)\n",
    "        else:\n",
    "            print('Blast Off!')\n",
    "\n",
    "countdown(20)"
   ]
  },
  {
   "cell_type": "markdown",
   "metadata": {},
   "source": [
    "Exercise 5.2: Write and test three functions that return the largest, the smallest, and the number of dividables by 3 in a given collection of numbers. Use the algorithm described earlier in the Part 5 lecture :)"
   ]
  },
  {
   "cell_type": "code",
   "execution_count": null,
   "metadata": {},
   "outputs": [],
   "source": [
    "\n",
    "\n",
    "a = [2, 4, 6, 12, 15, 99, 100]\n",
    "\n",
    "def largest(list):\n",
    "    return sorted(list)[-1]\n",
    "\n",
    "\n",
    "def smallest(list):\n",
    "    return sorted(list)[0]\n",
    "\n",
    "def dividables_by_3(list):\n",
    "    multiples_of_3 = []\n",
    "    for n in list:\n",
    "        if n%3 == 0:\n",
    "            multiples_of_3.append(n)\n",
    "    return len(multiples_of_3)\n",
    "\n",
    "print(\n",
    "    largest(a),\n",
    "     '\\n',\n",
    "    smallest(a),\n",
    "     '\\n',\n",
    "    dividables_by_3(a)\n",
    ")"
   ]
  },
  {
   "cell_type": "markdown",
   "metadata": {},
   "source": []
  }
 ],
 "metadata": {
  "kernelspec": {
   "display_name": "Python 3",
   "language": "python",
   "name": "python3"
  },
  "language_info": {
   "codemirror_mode": {
    "name": "ipython",
    "version": 3
   },
   "file_extension": ".py",
   "mimetype": "text/x-python",
   "name": "python",
   "nbconvert_exporter": "python",
   "pygments_lexer": "ipython3",
   "version": "3.7.6"
  }
 },
 "nbformat": 4,
 "nbformat_minor": 4
}
