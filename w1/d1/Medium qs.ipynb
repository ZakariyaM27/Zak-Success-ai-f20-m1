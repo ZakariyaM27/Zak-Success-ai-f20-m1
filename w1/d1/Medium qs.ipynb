{
 "cells": [
  {
   "cell_type": "markdown",
   "metadata": {},
   "source": [
    "Exercise 5.5 (🌶️): The Fibonacci sequence is a sequence of numbers that starts with 1, followed by 1 again. Every next number is the sum of the two previous numbers. I.e., the sequence starts with 1, 1, 2, 3, 5, 8, 13, 21,... Write a function that calculates and prints the Fibonacci sequence until the numbers get higher than a maximum."
   ]
  },
  {
   "cell_type": "code",
   "execution_count": null,
   "metadata": {
    "scrolled": true
   },
   "outputs": [],
   "source": [
    "s = [0, 1]\n",
    "def fibb(maximum):\n",
    "    s = [0, 1]\n",
    "    while bool(s):\n",
    "        next_n = s[-1] + s[-2]\n",
    "        if next_n <= maximum:\n",
    "            s.append(next_n)\n",
    "        else:\n",
    "            break\n",
    "    print(s)\n",
    "    \n",
    "fibb(22)"
   ]
  },
  {
   "cell_type": "markdown",
   "metadata": {},
   "source": [
    "Exercise 5.5 (🌶️): The Fibonacci sequence is a sequence of numbers that starts with 1, followed by 1 again. Every next number is the sum of the two previous numbers. I.e., the sequence starts with 1, 1, 2, 3, 5, 8, 13, 21,... Write a function that calculates and prints the Fibonacci sequence until the numbers get higher than a maximum."
   ]
  },
  {
   "cell_type": "code",
   "execution_count": 13,
   "metadata": {},
   "outputs": [],
   "source": [
    "A = 2\n",
    "B = 1\n",
    "C = 7\n",
    "D = 8\n",
    "\n",
    "\n",
    "for n in [A,B,C,D]:\n",
    "    my_list.append(str(n))\n",
    "    if 4*int(''.join(my_list)) == int(''.join(sorted(my_list, reverse=True))):\n",
    "        for e in my_list:\n",
    "            print({\n",
    "                n:e\n",
    "            })\n",
    "# Not done"
   ]
  }
 ],
 "metadata": {
  "kernelspec": {
   "display_name": "Python 3",
   "language": "python",
   "name": "python3"
  },
  "language_info": {
   "codemirror_mode": {
    "name": "ipython",
    "version": 3
   },
   "file_extension": ".py",
   "mimetype": "text/x-python",
   "name": "python",
   "nbconvert_exporter": "python",
   "pygments_lexer": "ipython3",
   "version": "3.7.6"
  }
 },
 "nbformat": 4,
 "nbformat_minor": 4
}
