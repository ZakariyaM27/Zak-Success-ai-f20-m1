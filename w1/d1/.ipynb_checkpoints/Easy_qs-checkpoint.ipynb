{
 "cells": [
  {
   "cell_type": "markdown",
   "metadata": {},
   "source": [
    "Exercise 1.1: The cover price of a book is 24.95 EUR, but bookstores get a 40 percent discount. Shipping costs 3 EUR for the first copy and 75 cents for each additional copy. Calculate the total wholesale costs for 60 copies"
   ]
  },
  {
   "cell_type": "code",
   "execution_count": null,
   "metadata": {},
   "outputs": [],
   "source": [
    "def cost(cp, tper, s1, sX, n):\n",
    "        total_cp = cp*n*tper \n",
    "        ship_costs = s1 + sX*(n-1) \n",
    "        return total_cp + ship_costs\n",
    "\n",
    "cost(24.95, 0.6, 3, 0.75, 60)"
   ]
  },
  {
   "cell_type": "markdown",
   "metadata": {},
   "source": [
    "Exercise 1.2: When something is wrong with your code, Python will raise errors. Often these will be \"syntax errors\" that signal that something is wrong with the form of your code (e.g., the code in the previous exercise raised a SyntaxError). There are also \"runtime errors\", which signal that your code was in itself formally correct, but that something went wrong during the code's execution. A good example is the ZeroDivisionError, which indicates that you tried to divide a number by zero (which, as you may know, is not allowed). Try to make Python raise such a ZeroDivisionError."
   ]
  },
  {
   "cell_type": "code",
   "execution_count": null,
   "metadata": {},
   "outputs": [],
   "source": [
    "1/0"
   ]
  },
  {
   "cell_type": "markdown",
   "metadata": {},
   "source": [
    "Exercise 5.1: Create a countdown function that starts at a certain count, and counts down to zero. Instead of zero, print \"Blast off!\". Use a for loop."
   ]
  },
  {
   "cell_type": "code",
   "execution_count": null,
   "metadata": {},
   "outputs": [],
   "source": [
    "\n",
    "# Countdown\n",
    "def countdown(number):\n",
    "    print(number)\n",
    "    for n in range (0,number):\n",
    "        number -= 1\n",
    "        if number != 0:\n",
    "            print(number)\n",
    "        else:\n",
    "            print('Blast Off!')\n",
    "\n",
    "countdown(20)"
   ]
  },
  {
   "cell_type": "markdown",
   "metadata": {},
   "source": [
    "Exercise 5.2: Write and test three functions that return the largest, the smallest, and the number of dividables by 3 in a given collection of numbers. Use the algorithm described earlier in the Part 5 lecture :)"
   ]
  },
  {
   "cell_type": "code",
   "execution_count": null,
   "metadata": {},
   "outputs": [],
   "source": [
    "\n",
    "\n",
    "a = [2, 4, 6, 12, 15, 99, 100]\n",
    "\n",
    "def largest(list):\n",
    "    return sorted(list)[-1]\n",
    "\n",
    "\n",
    "def smallest(list):\n",
    "    return sorted(list)[0]\n",
    "\n",
    "def dividables_by_3(list):\n",
    "    multiples_of_3 = []\n",
    "    for n in list:\n",
    "        if n%3 == 0:\n",
    "            multiples_of_3.append(n)\n",
    "    return len(multiples_of_3)\n",
    "\n",
    "print(\n",
    "    largest(a),\n",
    "     '\\n',\n",
    "    smallest(a),\n",
    "     '\\n',\n",
    "    dividables_by_3(a)\n",
    ")"
   ]
  }
 ],
 "metadata": {
  "kernelspec": {
   "display_name": "Python 3",
   "language": "python",
   "name": "python3"
  },
  "language_info": {
   "codemirror_mode": {
    "name": "ipython",
    "version": 3
   },
   "file_extension": ".py",
   "mimetype": "text/x-python",
   "name": "python",
   "nbconvert_exporter": "python",
   "pygments_lexer": "ipython3",
   "version": "3.7.6"
  }
 },
 "nbformat": 4,
 "nbformat_minor": 4
}
